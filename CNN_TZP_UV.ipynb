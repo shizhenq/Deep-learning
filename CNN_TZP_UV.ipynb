{
 "cells": [
  {
   "cell_type": "markdown",
   "metadata": {},
   "source": [
    "# Introducing Keras\n",
    "\n",
    "Let's use Keras on the MNIST data set again, this time using a Convolutional Neural Network that's better suited for image processing. CNN's are less sensitive to where in the image the pattern is that we're looking for.\n",
    "\n",
    "With a multi-layer perceptron, we achieved around 97% accuracy. Let's see if we can beat that.\n",
    "\n",
    "As before we'll start by importing the stuff we need, including the new layer types we talked about:"
   ]
  },
  {
   "cell_type": "code",
   "execution_count": 1,
   "metadata": {},
   "outputs": [],
   "source": [
    "import os\n",
    "import tensorflow as tf\n",
    "from tensorflow import keras \n",
    "from tensorflow.keras.layers import (Dense, Conv1D, Flatten, Activation, BatchNormalization, Activation, Dropout)\n",
    "from tensorflow.keras import Sequential, regularizers, optimizers\n",
    "from sklearn.metrics import mean_squared_error, r2_score, mean_absolute_error\n",
    "\n",
    "import numpy as np\n",
    "import matplotlib as mpl\n",
    "import matplotlib.pyplot as plt\n",
    "import scipy.io as spio"
   ]
  },
  {
   "cell_type": "markdown",
   "metadata": {},
   "source": [
    "We'll load up our raw data set exactly as before:"
   ]
  },
  {
   "cell_type": "code",
   "execution_count": 2,
   "metadata": {},
   "outputs": [
    {
     "name": "stdout",
     "output_type": "stream",
     "text": [
      "(300, 1778, 1)\n",
      "(72, 1778, 1)\n",
      "(72, 1)\n",
      "(1778, 1)\n"
     ]
    }
   ],
   "source": [
    "mat_files=spio.loadmat('TZP_UV_DATA_CLEAN_20201026.mat')\n",
    "SPEC_CAL = mat_files['SPEC_Indy_step1_1']\n",
    "Y_CAL = mat_files['HPLC_Indy_step1']\n",
    "SPEC_TEST = mat_files['SPEC_Kinsale_step1_1']\n",
    "Y_TEST = mat_files['HPLC_Kinsale_step1']\n",
    "WL_AXIS=mat_files['WL_AXIS_Indy']\n",
    "WL_AXIS=WL_AXIS.transpose();\n",
    "\n",
    "temp_spec=np.append(SPEC_CAL,SPEC_TEST[:,1:], axis=0)\n",
    "temp_y=np.append(Y_CAL,Y_TEST, axis=0)\n",
    "ind=np.random.permutation(372)\n",
    "SPEC_CAL=temp_spec[ind[0:300],:]\n",
    "Y_CAL=temp_y[ind[0:300],:]\n",
    "SPEC_TEST=temp_spec[ind[300:],:]\n",
    "Y_TEST=temp_y[ind[300:],:]\n",
    "\n",
    "SPEC_CAL = SPEC_CAL.reshape(SPEC_CAL.shape[0],SPEC_CAL.shape[1],1)\n",
    "SPEC_TEST = SPEC_TEST.reshape(SPEC_TEST.shape[0],SPEC_TEST.shape[1],1)\n",
    "print(SPEC_CAL.shape)\n",
    "print(SPEC_TEST.shape)\n",
    "print(Y_TEST.shape)\n",
    "print(WL_AXIS.shape)"
   ]
  },
  {
   "cell_type": "markdown",
   "metadata": {},
   "source": [
    "We need to shape the data differently then before. Since we're treating the data as 2D images of 28x28 pixels instead of a flattened stream of 784 pixels, we need to shape it accordingly. Depending on the data format Keras is set up for, this may be 1x28x28 or 28x28x1 (the \"1\" indicates a single color channel, as this is just grayscale. If we were dealing with color images, it would be 3 instead of 1 since we'd have red, green, and blue color channels)"
   ]
  },
  {
   "cell_type": "markdown",
   "metadata": {},
   "source": [
    "As before we need to convert our train and test labels to be categorical in one-hot format:"
   ]
  },
  {
   "cell_type": "markdown",
   "metadata": {},
   "source": [
    "As a sanity check let's print out one of the training images with its label:"
   ]
  },
  {
   "cell_type": "code",
   "execution_count": 3,
   "metadata": {},
   "outputs": [
    {
     "data": {
      "image/png": "[encoded data removed]",
      "text/plain": [
       "<Figure size 432x288 with 1 Axes>"
      ]
     },
     "metadata": {
      "needs_background": "light"
     },
     "output_type": "display_data"
    }
   ],
   "source": [
    "import matplotlib.pyplot as plt\n",
    "\n",
    "def display_sample(num1,num2):\n",
    "    #Print training and test spectra \n",
    "    fig, ax = plt.subplots()\n",
    "    ax.plot(WL_AXIS,SPEC_CAL[num1,:])\n",
    "    ax.plot(WL_AXIS,SPEC_TEST[num2,:])\n",
    "    plt.title('Training spectra#: %d  Test spectra#: %d' % (num1, num2))\n",
    "    plt.show()\n",
    "    \n",
    "display_sample(32,61)"
   ]
  },
  {
   "cell_type": "markdown",
   "metadata": {},
   "source": [
    "Now for the meat of the problem. Setting up a convolutional neural network involves more layers. Not all of these are strictly necessary; you could run without pooling and dropout, but those extra steps help avoid overfitting and help things run faster.\n",
    "\n",
    "We'll start with a 2D convolution of the image - it's set up to take 32 windows, or \"filters\", of each image, each filter being 3x3 in size.\n",
    "\n",
    "We then run a second convolution on top of that with 64 3x3 windows - this topology is just what comes recommended within Keras's own examples. Again you want to re-use previous research whenever possible while tuning CNN's, as it is hard to do.\n",
    "\n",
    "Next we apply a MaxPooling2D layer that takes the maximum of each 2x2 result to distill the results down into something more manageable.\n",
    "\n",
    "A dropout filter is then applied to prevent overfitting.\n",
    "\n",
    "Next we flatten the 2D layer we have at this stage into a 1D layer. So at this point we can just pretend we have a traditional multi-layer perceptron...\n",
    "\n",
    "... and feed that into a hidden, flat layer of 128 units.\n",
    "\n",
    "We then apply dropout again to further prevent overfitting.\n",
    "\n",
    "And finally, we feed that into our final 10 units where softmax is applied to choose our category of 0-9."
   ]
  },
  {
   "cell_type": "code",
   "execution_count": 5,
   "metadata": {},
   "outputs": [],
   "source": [
    "model = Sequential()\n",
    "model.add(Conv1D(filters=1, kernel_size=11, strides=1, padding='same', activation='relu', input_shape=(SPEC_CAL.shape[1],1),\n",
    "                 kernel_initializer='VarianceScaling', kernel_regularizer=regularizers.l2(0.1)))\n",
    "model.add(Flatten())\n",
    "model.add(BatchNormalization())\n",
    "model.add(Activation('relu'))\n",
    "model.add(Dropout(0.1))\n",
    "model.add(Dense(32, kernel_initializer='VarianceScaling', kernel_regularizer=regularizers.l2(0.1)))\n",
    "model.add(Dense(1))\n",
    "\n",
    "# Function: the MAPE metric\n",
    "def mape(y_true, y_pred):\n",
    "    return np.mean(np.abs(((y_true - y_pred) / y_true))) * 100\n",
    "\n",
    "\n",
    "# Function: build the CNN model with different parameters like filters, l2.\n",
    "#def build_model(filters=8, kernel_size=200, l2=0.0001, dropout_ratio=0.2, units=32):\n",
    "#    model = Sequential()\n",
    "\n",
    "    # construct the model structure\n",
    "    # the convolutional layer with ReLu activation\n",
    "#    model.add(\n",
    "#        Conv1D(filters=filters,\n",
    "#               kernel_size=kernel_size,\n",
    "#               strides=1,\n",
    "#               activation='relu',\n",
    "#               padding='same',\n",
    "#               input_shape=(SPEC_CAL.shape[1], 1),\n",
    "#               kernel_initializer='VarianceScaling',\n",
    "#               kernel_regularizer=regularizers.l2(l2)))\n",
    "\n",
    "#    model.add(Flatten())\n",
    "#    model.add(BatchNormalization())\n",
    "#    model.add(Activation('relu'))\n",
    "#    model.add(Dropout(dropout_ratio))\n",
    "#    model.add(Dense(units, kernel_initializer='VarianceScaling', kernel_regularizer=regularizers.l2(l2)))\n",
    "\n",
    "    # the output layer\n",
    "#    model.add(Dense(1))\n",
    "#    return model"
   ]
  },
  {
   "cell_type": "markdown",
   "metadata": {},
   "source": [
    "Let's double check the model description:"
   ]
  },
  {
   "cell_type": "code",
   "execution_count": 29,
   "metadata": {},
   "outputs": [
    {
     "name": "stdout",
     "output_type": "stream",
     "text": [
      "Model: \"sequential_1\"\n",
      "_________________________________________________________________\n",
      "Layer (type)                 Output Shape              Param #   \n",
      "=================================================================\n",
      "conv1d_1 (Conv1D)            (None, 1778, 1)           12        \n",
      "_________________________________________________________________\n",
      "flatten_1 (Flatten)          (None, 1778)              0         \n",
      "_________________________________________________________________\n",
      "batch_normalization_1 (Batch (None, 1778)              7112      \n",
      "_________________________________________________________________\n",
      "activation_1 (Activation)    (None, 1778)              0         \n",
      "_________________________________________________________________\n",
      "dropout_1 (Dropout)          (None, 1778)              0         \n",
      "_________________________________________________________________\n",
      "dense_2 (Dense)              (None, 32)                56928     \n",
      "_________________________________________________________________\n",
      "dense_3 (Dense)              (None, 1)                 33        \n",
      "=================================================================\n",
      "Total params: 64,085\n",
      "Trainable params: 60,529\n",
      "Non-trainable params: 3,556\n",
      "_________________________________________________________________\n"
     ]
    }
   ],
   "source": [
    "\n",
    "# build model\n",
    "#model = build_model(filters=2, kernel_size=11, l2=0.1, dropout_ratio=0.1, units=32)\n",
    "optimizer = optimizers.Adam(lr=0.01)\n",
    "\n",
    "# use earlystop to avoid overfitting and to save training time\n",
    "earlystop = keras.callbacks.EarlyStopping(patience=500)\n",
    "\n",
    "# use checkpoint to save the best model while training\n",
    "if os.path.isdir(\"./weights/qft\"):\n",
    "    pass\n",
    "else:\n",
    "    os.mkdir(\"./weights/qft\")\n",
    "weight_path = \"./weights/qft/weights_best_qft_mse_demo.hdf5\"\n",
    "checkpoint = keras.callbacks.ModelCheckpoint(weight_path, monitor='val_loss', verbose=0, save_best_only=True)\n",
    "\n",
    "model.summary()\n",
    "\n"
   ]
  },
  {
   "cell_type": "markdown",
   "metadata": {},
   "source": [
    "We are still doing multiple categorization, so categorical_crossentropy is still the right loss function to use. We'll use the Adam optimizer, although the example provided with Keras uses RMSProp. You might want to try both if you have time."
   ]
  },
  {
   "cell_type": "code",
   "execution_count": 30,
   "metadata": {},
   "outputs": [],
   "source": [
    "# define the loss function: 'mse'/'mape'/'mae'\n",
    "model.compile(optimizer=optimizer, loss='mse', metrics=['mse'])"
   ]
  },
  {
   "cell_type": "markdown",
   "metadata": {},
   "source": [
    "And now we train our model... to make things go a little faster, we'll use batches of 32.\n",
    "\n",
    "## Warning\n",
    "\n",
    "This could take hours to run, and your computer's CPU will be maxed out during that time! Don't run the next block unless you can tie up your computer for a long time. It will print progress as each epoch is run, but each epoch can take around 20 minutes."
   ]
  },
  {
   "cell_type": "code",
   "execution_count": null,
   "metadata": {},
   "outputs": [
    {
     "name": "stdout",
     "output_type": "stream",
     "text": [
      "Epoch 1/1000\n",
      "1/1 [==============================] - 0s 250ms/step - loss: 0.0682 - mse: 0.0672 - val_loss: 0.1261 - val_mse: 0.0737\n",
      "Epoch 2/1000\n",
      "1/1 [==============================] - 0s 90ms/step - loss: 0.1222 - mse: 0.0697 - val_loss: 0.1229 - val_mse: 0.0639\n",
      "Epoch 3/1000\n",
      "1/1 [==============================] - 0s 89ms/step - loss: 0.1328 - mse: 0.0738 - val_loss: 0.1172 - val_mse: 0.0652\n",
      "Epoch 4/1000\n",
      "1/1 [==============================] - 0s 25ms/step - loss: 0.1192 - mse: 0.0671 - val_loss: 0.1913 - val_mse: 0.1303\n",
      "Epoch 5/1000\n",
      "1/1 [==============================] - 0s 26ms/step - loss: 0.1527 - mse: 0.0917 - val_loss: 0.1832 - val_mse: 0.0667\n",
      "Epoch 6/1000\n",
      "1/1 [==============================] - 0s 22ms/step - loss: 0.1839 - mse: 0.0674 - val_loss: 0.1880 - val_mse: 0.0636\n",
      "Epoch 7/1000\n",
      "1/1 [==============================] - 0s 25ms/step - loss: 0.1923 - mse: 0.0679 - val_loss: 0.2182 - val_mse: 0.0633\n",
      "Epoch 8/1000\n",
      "1/1 [==============================] - 0s 22ms/step - loss: 0.2231 - mse: 0.0683 - val_loss: 0.2488 - val_mse: 0.0645\n",
      "Epoch 9/1000\n",
      "1/1 [==============================] - 0s 24ms/step - loss: 0.2517 - mse: 0.0674 - val_loss: 0.2546 - val_mse: 0.0673\n",
      "Epoch 10/1000\n",
      "1/1 [==============================] - 0s 22ms/step - loss: 0.2548 - mse: 0.0675 - val_loss: 0.2380 - val_mse: 0.0695\n",
      "Epoch 11/1000\n",
      "1/1 [==============================] - 0s 23ms/step - loss: 0.2365 - mse: 0.0680 - val_loss: 0.2161 - val_mse: 0.0690\n",
      "Epoch 12/1000\n",
      "1/1 [==============================] - 0s 21ms/step - loss: 0.2148 - mse: 0.0677 - val_loss: 0.1998 - val_mse: 0.0667\n",
      "Epoch 13/1000\n",
      "1/1 [==============================] - 0s 24ms/step - loss: 0.2003 - mse: 0.0672 - val_loss: 0.1871 - val_mse: 0.0649\n",
      "Epoch 14/1000\n",
      "1/1 [==============================] - 0s 23ms/step - loss: 0.1897 - mse: 0.0674 - val_loss: 0.1696 - val_mse: 0.0642\n",
      "Epoch 15/1000\n",
      "1/1 [==============================] - 0s 22ms/step - loss: 0.1729 - mse: 0.0675 - val_loss: 0.1482 - val_mse: 0.0644\n",
      "Epoch 16/1000\n",
      "1/1 [==============================] - 0s 22ms/step - loss: 0.1512 - mse: 0.0673 - val_loss: 0.1311 - val_mse: 0.0651\n",
      "Epoch 17/1000\n",
      "1/1 [==============================] - 0s 22ms/step - loss: 0.1331 - mse: 0.0672 - val_loss: 0.1218 - val_mse: 0.0661\n",
      "Epoch 18/1000\n",
      "1/1 [==============================] - 0s 77ms/step - loss: 0.1229 - mse: 0.0672 - val_loss: 0.1158 - val_mse: 0.0669\n",
      "Epoch 19/1000\n",
      "1/1 [==============================] - 0s 85ms/step - loss: 0.1161 - mse: 0.0672 - val_loss: 0.1077 - val_mse: 0.0669\n",
      "Epoch 20/1000\n",
      "1/1 [==============================] - 0s 74ms/step - loss: 0.1081 - mse: 0.0673 - val_loss: 0.0986 - val_mse: 0.0665\n",
      "Epoch 21/1000\n",
      "1/1 [==============================] - 0s 75ms/step - loss: 0.0992 - mse: 0.0671 - val_loss: 0.0929 - val_mse: 0.0658\n",
      "Epoch 22/1000\n",
      "1/1 [==============================] - 0s 78ms/step - loss: 0.0942 - mse: 0.0671 - val_loss: 0.0927 - val_mse: 0.0653\n",
      "Epoch 23/1000\n",
      "1/1 [==============================] - 0s 22ms/step - loss: 0.0943 - mse: 0.0669 - val_loss: 0.0948 - val_mse: 0.0651\n",
      "Epoch 24/1000\n",
      "1/1 [==============================] - 0s 22ms/step - loss: 0.0967 - mse: 0.0670 - val_loss: 0.0952 - val_mse: 0.0652\n",
      "Epoch 25/1000\n",
      "1/1 [==============================] - 0s 22ms/step - loss: 0.0970 - mse: 0.0670 - val_loss: 0.0937 - val_mse: 0.0656\n",
      "Epoch 26/1000\n",
      "1/1 [==============================] - 0s 24ms/step - loss: 0.0951 - mse: 0.0670 - val_loss: 0.0928 - val_mse: 0.0660\n",
      "Epoch 27/1000\n",
      "1/1 [==============================] - 0s 79ms/step - loss: 0.0938 - mse: 0.0670 - val_loss: 0.0926 - val_mse: 0.0661\n",
      "Epoch 28/1000\n",
      "1/1 [==============================] - 0s 104ms/step - loss: 0.0934 - mse: 0.0669 - val_loss: 0.0907 - val_mse: 0.0659\n",
      "Epoch 29/1000\n",
      "1/1 [==============================] - 0s 75ms/step - loss: 0.0918 - mse: 0.0669 - val_loss: 0.0870 - val_mse: 0.0654\n",
      "Epoch 30/1000\n",
      "1/1 [==============================] - 0s 77ms/step - loss: 0.0884 - mse: 0.0668 - val_loss: 0.0837 - val_mse: 0.0649\n",
      "Epoch 31/1000\n",
      "1/1 [==============================] - 0s 74ms/step - loss: 0.0856 - mse: 0.0669 - val_loss: 0.0821 - val_mse: 0.0646\n",
      "Epoch 32/1000\n",
      "1/1 [==============================] - 0s 72ms/step - loss: 0.0843 - mse: 0.0669 - val_loss: 0.0810 - val_mse: 0.0646\n",
      "Epoch 33/1000\n",
      "1/1 [==============================] - 0s 80ms/step - loss: 0.0832 - mse: 0.0668 - val_loss: 0.0793 - val_mse: 0.0647\n",
      "Epoch 34/1000\n",
      "1/1 [==============================] - 0s 78ms/step - loss: 0.0814 - mse: 0.0668 - val_loss: 0.0777 - val_mse: 0.0649\n",
      "Epoch 35/1000\n",
      "1/1 [==============================] - 0s 85ms/step - loss: 0.0796 - mse: 0.0668 - val_loss: 0.0770 - val_mse: 0.0651\n",
      "Epoch 36/1000\n",
      "1/1 [==============================] - 0s 78ms/step - loss: 0.0787 - mse: 0.0667 - val_loss: 0.0766 - val_mse: 0.0652\n",
      "Epoch 37/1000\n",
      "1/1 [==============================] - 0s 79ms/step - loss: 0.0782 - mse: 0.0668 - val_loss: 0.0757 - val_mse: 0.0651\n",
      "Epoch 38/1000\n",
      "1/1 [==============================] - 0s 85ms/step - loss: 0.0772 - mse: 0.0667 - val_loss: 0.0745 - val_mse: 0.0651\n",
      "Epoch 39/1000\n",
      "1/1 [==============================] - 0s 79ms/step - loss: 0.0762 - mse: 0.0668 - val_loss: 0.0736 - val_mse: 0.0650\n",
      "Epoch 40/1000\n",
      "1/1 [==============================] - 0s 78ms/step - loss: 0.0752 - mse: 0.0666 - val_loss: 0.0732 - val_mse: 0.0651\n",
      "Epoch 41/1000\n",
      "1/1 [==============================] - 0s 76ms/step - loss: 0.0747 - mse: 0.0666 - val_loss: 0.0728 - val_mse: 0.0652\n",
      "Epoch 42/1000\n",
      "1/1 [==============================] - 0s 83ms/step - loss: 0.0743 - mse: 0.0667 - val_loss: 0.0721 - val_mse: 0.0651\n",
      "Epoch 43/1000\n",
      "1/1 [==============================] - 0s 76ms/step - loss: 0.0737 - mse: 0.0667 - val_loss: 0.0716 - val_mse: 0.0651\n",
      "Epoch 44/1000\n",
      "1/1 [==============================] - 0s 77ms/step - loss: 0.0731 - mse: 0.0666 - val_loss: 0.0713 - val_mse: 0.0652\n",
      "Epoch 45/1000\n",
      "1/1 [==============================] - 0s 78ms/step - loss: 0.0728 - mse: 0.0666 - val_loss: 0.0713 - val_mse: 0.0654\n",
      "Epoch 46/1000\n",
      "1/1 [==============================] - 0s 84ms/step - loss: 0.0725 - mse: 0.0666 - val_loss: 0.0713 - val_mse: 0.0656\n",
      "Epoch 47/1000\n",
      "1/1 [==============================] - 0s 76ms/step - loss: 0.0723 - mse: 0.0666 - val_loss: 0.0711 - val_mse: 0.0657\n",
      "Epoch 48/1000\n",
      "1/1 [==============================] - 0s 74ms/step - loss: 0.0720 - mse: 0.0666 - val_loss: 0.0707 - val_mse: 0.0655\n",
      "Epoch 49/1000\n",
      "1/1 [==============================] - 0s 87ms/step - loss: 0.0718 - mse: 0.0666 - val_loss: 0.0702 - val_mse: 0.0653\n",
      "Epoch 50/1000\n",
      "1/1 [==============================] - 0s 77ms/step - loss: 0.0715 - mse: 0.0666 - val_loss: 0.0701 - val_mse: 0.0653\n",
      "Epoch 51/1000\n",
      "1/1 [==============================] - 0s 79ms/step - loss: 0.0713 - mse: 0.0665 - val_loss: 0.0700 - val_mse: 0.0654\n",
      "Epoch 52/1000\n",
      "1/1 [==============================] - 0s 74ms/step - loss: 0.0711 - mse: 0.0665 - val_loss: 0.0696 - val_mse: 0.0652\n",
      "Epoch 53/1000\n",
      "1/1 [==============================] - 0s 75ms/step - loss: 0.0709 - mse: 0.0666 - val_loss: 0.0694 - val_mse: 0.0653\n",
      "Epoch 54/1000\n",
      "1/1 [==============================] - 0s 87ms/step - loss: 0.0706 - mse: 0.0666 - val_loss: 0.0692 - val_mse: 0.0653\n",
      "Epoch 55/1000\n",
      "1/1 [==============================] - 0s 79ms/step - loss: 0.0704 - mse: 0.0666 - val_loss: 0.0691 - val_mse: 0.0654\n",
      "Epoch 56/1000\n",
      "1/1 [==============================] - 0s 80ms/step - loss: 0.0703 - mse: 0.0665 - val_loss: 0.0689 - val_mse: 0.0653\n",
      "Epoch 57/1000\n",
      "1/1 [==============================] - 0s 74ms/step - loss: 0.0702 - mse: 0.0666 - val_loss: 0.0685 - val_mse: 0.0651\n",
      "Epoch 58/1000\n",
      "1/1 [==============================] - 0s 76ms/step - loss: 0.0700 - mse: 0.0665 - val_loss: 0.0684 - val_mse: 0.0650\n",
      "Epoch 59/1000\n",
      "1/1 [==============================] - 0s 21ms/step - loss: 0.0698 - mse: 0.0665 - val_loss: 0.0684 - val_mse: 0.0651\n",
      "Epoch 60/1000\n",
      "1/1 [==============================] - 0s 23ms/step - loss: 0.0697 - mse: 0.0665 - val_loss: 0.0684 - val_mse: 0.0652\n",
      "Epoch 61/1000\n",
      "1/1 [==============================] - 0s 73ms/step - loss: 0.0697 - mse: 0.0665 - val_loss: 0.0682 - val_mse: 0.0651\n",
      "Epoch 62/1000\n",
      "1/1 [==============================] - 0s 25ms/step - loss: 0.0696 - mse: 0.0665 - val_loss: 0.0684 - val_mse: 0.0654\n",
      "Epoch 63/1000\n"
     ]
    },
    {
     "name": "stdout",
     "output_type": "stream",
     "text": [
      "1/1 [==============================] - 0s 72ms/step - loss: 0.0695 - mse: 0.0665 - val_loss: 0.0682 - val_mse: 0.0652\n",
      "Epoch 64/1000\n",
      "1/1 [==============================] - 0s 77ms/step - loss: 0.0695 - mse: 0.0665 - val_loss: 0.0678 - val_mse: 0.0648\n",
      "Epoch 65/1000\n",
      "1/1 [==============================] - 0s 83ms/step - loss: 0.0694 - mse: 0.0665 - val_loss: 0.0676 - val_mse: 0.0647\n",
      "Epoch 66/1000\n",
      "1/1 [==============================] - 0s 24ms/step - loss: 0.0693 - mse: 0.0664 - val_loss: 0.0678 - val_mse: 0.0650\n",
      "Epoch 67/1000\n",
      "1/1 [==============================] - 0s 24ms/step - loss: 0.0693 - mse: 0.0665 - val_loss: 0.0680 - val_mse: 0.0652\n",
      "Epoch 68/1000\n",
      "1/1 [==============================] - 0s 23ms/step - loss: 0.0691 - mse: 0.0663 - val_loss: 0.0680 - val_mse: 0.0653\n",
      "Epoch 69/1000\n",
      "1/1 [==============================] - 0s 22ms/step - loss: 0.0691 - mse: 0.0664 - val_loss: 0.0676 - val_mse: 0.0649\n",
      "Epoch 70/1000\n",
      "1/1 [==============================] - 0s 80ms/step - loss: 0.0691 - mse: 0.0664 - val_loss: 0.0675 - val_mse: 0.0649\n",
      "Epoch 71/1000\n",
      "1/1 [==============================] - 0s 23ms/step - loss: 0.0689 - mse: 0.0663 - val_loss: 0.0677 - val_mse: 0.0650\n",
      "Epoch 72/1000\n",
      "1/1 [==============================] - 0s 75ms/step - loss: 0.0690 - mse: 0.0664 - val_loss: 0.0673 - val_mse: 0.0648\n",
      "Epoch 73/1000\n",
      "1/1 [==============================] - 0s 22ms/step - loss: 0.0690 - mse: 0.0665 - val_loss: 0.0676 - val_mse: 0.0651\n",
      "Epoch 74/1000\n",
      "1/1 [==============================] - 0s 23ms/step - loss: 0.0688 - mse: 0.0663 - val_loss: 0.0682 - val_mse: 0.0656\n",
      "Epoch 75/1000\n",
      "1/1 [==============================] - 0s 101ms/step - loss: 0.0690 - mse: 0.0665 - val_loss: 0.0672 - val_mse: 0.0648\n",
      "Epoch 76/1000\n",
      "1/1 [==============================] - 0s 77ms/step - loss: 0.0690 - mse: 0.0665 - val_loss: 0.0672 - val_mse: 0.0647\n",
      "Epoch 77/1000\n",
      "1/1 [==============================] - 0s 22ms/step - loss: 0.0688 - mse: 0.0664 - val_loss: 0.0674 - val_mse: 0.0649\n",
      "Epoch 78/1000\n",
      "1/1 [==============================] - 0s 23ms/step - loss: 0.0688 - mse: 0.0664 - val_loss: 0.0672 - val_mse: 0.0649\n",
      "Epoch 79/1000\n",
      "1/1 [==============================] - 0s 23ms/step - loss: 0.0687 - mse: 0.0663 - val_loss: 0.0679 - val_mse: 0.0655\n",
      "Epoch 80/1000\n",
      "1/1 [==============================] - 0s 22ms/step - loss: 0.0687 - mse: 0.0663 - val_loss: 0.0677 - val_mse: 0.0654\n",
      "Epoch 81/1000\n",
      "1/1 [==============================] - 0s 23ms/step - loss: 0.0687 - mse: 0.0663 - val_loss: 0.0673 - val_mse: 0.0649\n",
      "Epoch 82/1000\n",
      "1/1 [==============================] - 0s 22ms/step - loss: 0.0687 - mse: 0.0663 - val_loss: 0.0674 - val_mse: 0.0650\n",
      "Epoch 83/1000\n",
      "1/1 [==============================] - 0s 75ms/step - loss: 0.0687 - mse: 0.0664 - val_loss: 0.0667 - val_mse: 0.0644\n",
      "Epoch 84/1000\n",
      "1/1 [==============================] - 0s 22ms/step - loss: 0.0687 - mse: 0.0664 - val_loss: 0.0672 - val_mse: 0.0650\n",
      "Epoch 85/1000\n",
      "1/1 [==============================] - 0s 22ms/step - loss: 0.0685 - mse: 0.0663 - val_loss: 0.0673 - val_mse: 0.0650\n",
      "Epoch 86/1000\n",
      "1/1 [==============================] - 0s 23ms/step - loss: 0.0685 - mse: 0.0662 - val_loss: 0.0672 - val_mse: 0.0650\n",
      "Epoch 87/1000\n",
      "1/1 [==============================] - 0s 23ms/step - loss: 0.0686 - mse: 0.0664 - val_loss: 0.0678 - val_mse: 0.0655\n",
      "Epoch 88/1000\n",
      "1/1 [==============================] - 0s 22ms/step - loss: 0.0688 - mse: 0.0665 - val_loss: 0.0667 - val_mse: 0.0646\n",
      "Epoch 89/1000\n",
      "1/1 [==============================] - 0s 22ms/step - loss: 0.0691 - mse: 0.0669 - val_loss: 0.0677 - val_mse: 0.0655\n",
      "Epoch 90/1000\n",
      "1/1 [==============================] - 0s 25ms/step - loss: 0.0690 - mse: 0.0668 - val_loss: 0.0668 - val_mse: 0.0647\n",
      "Epoch 91/1000\n",
      "1/1 [==============================] - 0s 23ms/step - loss: 0.0684 - mse: 0.0663 - val_loss: 0.0670 - val_mse: 0.0648\n",
      "Epoch 92/1000\n",
      "1/1 [==============================] - 0s 23ms/step - loss: 0.0685 - mse: 0.0664 - val_loss: 0.0678 - val_mse: 0.0656\n",
      "Epoch 93/1000\n",
      "1/1 [==============================] - 0s 22ms/step - loss: 0.0686 - mse: 0.0664 - val_loss: 0.0671 - val_mse: 0.0650\n",
      "Epoch 94/1000\n",
      "1/1 [==============================] - 0s 23ms/step - loss: 0.0684 - mse: 0.0663 - val_loss: 0.0667 - val_mse: 0.0646\n",
      "Epoch 95/1000\n",
      "1/1 [==============================] - 0s 22ms/step - loss: 0.0684 - mse: 0.0663 - val_loss: 0.0672 - val_mse: 0.0651\n",
      "Epoch 96/1000\n",
      "1/1 [==============================] - 0s 22ms/step - loss: 0.0685 - mse: 0.0664 - val_loss: 0.0667 - val_mse: 0.0647\n",
      "Epoch 97/1000\n",
      "1/1 [==============================] - 0s 23ms/step - loss: 0.0683 - mse: 0.0663 - val_loss: 0.0670 - val_mse: 0.0650\n",
      "Epoch 98/1000\n",
      "1/1 [==============================] - 0s 23ms/step - loss: 0.0682 - mse: 0.0662 - val_loss: 0.0674 - val_mse: 0.0654\n",
      "Epoch 99/1000\n",
      "1/1 [==============================] - 0s 21ms/step - loss: 0.0682 - mse: 0.0662 - val_loss: 0.0671 - val_mse: 0.0651\n",
      "Epoch 100/1000\n",
      "1/1 [==============================] - 0s 22ms/step - loss: 0.0683 - mse: 0.0663 - val_loss: 0.0668 - val_mse: 0.0648\n",
      "Epoch 101/1000\n",
      "1/1 [==============================] - 0s 73ms/step - loss: 0.0682 - mse: 0.0662 - val_loss: 0.0666 - val_mse: 0.0646\n",
      "Epoch 102/1000\n",
      "1/1 [==============================] - 0s 72ms/step - loss: 0.0682 - mse: 0.0662 - val_loss: 0.0662 - val_mse: 0.0643\n",
      "Epoch 103/1000\n",
      "1/1 [==============================] - 0s 22ms/step - loss: 0.0682 - mse: 0.0663 - val_loss: 0.0666 - val_mse: 0.0647\n",
      "Epoch 104/1000\n",
      "1/1 [==============================] - 0s 21ms/step - loss: 0.0681 - mse: 0.0662 - val_loss: 0.0670 - val_mse: 0.0651\n",
      "Epoch 105/1000\n",
      "1/1 [==============================] - 0s 23ms/step - loss: 0.0681 - mse: 0.0661 - val_loss: 0.0669 - val_mse: 0.0650\n",
      "Epoch 106/1000\n",
      "1/1 [==============================] - 0s 24ms/step - loss: 0.0681 - mse: 0.0662 - val_loss: 0.0670 - val_mse: 0.0651\n",
      "Epoch 107/1000\n",
      "1/1 [==============================] - 0s 23ms/step - loss: 0.0680 - mse: 0.0661 - val_loss: 0.0667 - val_mse: 0.0648\n",
      "Epoch 108/1000\n",
      "1/1 [==============================] - 0s 23ms/step - loss: 0.0680 - mse: 0.0661 - val_loss: 0.0663 - val_mse: 0.0644\n",
      "Epoch 109/1000\n",
      "1/1 [==============================] - 0s 76ms/step - loss: 0.0680 - mse: 0.0661 - val_loss: 0.0662 - val_mse: 0.0644\n",
      "Epoch 110/1000\n",
      "1/1 [==============================] - 0s 25ms/step - loss: 0.0680 - mse: 0.0662 - val_loss: 0.0669 - val_mse: 0.0651\n",
      "Epoch 111/1000\n",
      "1/1 [==============================] - 0s 26ms/step - loss: 0.0682 - mse: 0.0664 - val_loss: 0.0665 - val_mse: 0.0647\n",
      "Epoch 112/1000\n",
      "1/1 [==============================] - 0s 21ms/step - loss: 0.0684 - mse: 0.0666 - val_loss: 0.0669 - val_mse: 0.0651\n",
      "Epoch 113/1000\n",
      "1/1 [==============================] - 0s 22ms/step - loss: 0.0680 - mse: 0.0662 - val_loss: 0.0664 - val_mse: 0.0647\n",
      "Epoch 114/1000\n",
      "1/1 [==============================] - 0s 81ms/step - loss: 0.0679 - mse: 0.0661 - val_loss: 0.0660 - val_mse: 0.0642\n",
      "Epoch 115/1000\n",
      "1/1 [==============================] - 0s 22ms/step - loss: 0.0682 - mse: 0.0664 - val_loss: 0.0665 - val_mse: 0.0647\n",
      "Epoch 116/1000\n",
      "1/1 [==============================] - 0s 26ms/step - loss: 0.0681 - mse: 0.0663 - val_loss: 0.0663 - val_mse: 0.0645\n",
      "Epoch 117/1000\n",
      "1/1 [==============================] - 0s 25ms/step - loss: 0.0678 - mse: 0.0660 - val_loss: 0.0665 - val_mse: 0.0648\n",
      "Epoch 118/1000\n",
      "1/1 [==============================] - 0s 25ms/step - loss: 0.0679 - mse: 0.0662 - val_loss: 0.0671 - val_mse: 0.0654\n",
      "Epoch 119/1000\n",
      "1/1 [==============================] - 0s 24ms/step - loss: 0.0680 - mse: 0.0662 - val_loss: 0.0666 - val_mse: 0.0649\n",
      "Epoch 120/1000\n",
      "1/1 [==============================] - 0s 30ms/step - loss: 0.0677 - mse: 0.0660 - val_loss: 0.0662 - val_mse: 0.0645\n",
      "Epoch 121/1000\n",
      "1/1 [==============================] - 0s 23ms/step - loss: 0.0678 - mse: 0.0661 - val_loss: 0.0662 - val_mse: 0.0646\n",
      "Epoch 122/1000\n",
      "1/1 [==============================] - 0s 76ms/step - loss: 0.0678 - mse: 0.0661 - val_loss: 0.0658 - val_mse: 0.0642\n",
      "Epoch 123/1000\n",
      "1/1 [==============================] - 0s 23ms/step - loss: 0.0676 - mse: 0.0660 - val_loss: 0.0660 - val_mse: 0.0644\n",
      "Epoch 124/1000\n",
      "1/1 [==============================] - 0s 25ms/step - loss: 0.0676 - mse: 0.0660 - val_loss: 0.0667 - val_mse: 0.0650\n"
     ]
    },
    {
     "name": "stdout",
     "output_type": "stream",
     "text": [
      "Epoch 125/1000\n",
      "1/1 [==============================] - 0s 26ms/step - loss: 0.0679 - mse: 0.0662 - val_loss: 0.0663 - val_mse: 0.0646\n",
      "Epoch 126/1000\n",
      "1/1 [==============================] - 0s 27ms/step - loss: 0.0680 - mse: 0.0663 - val_loss: 0.0664 - val_mse: 0.0647\n",
      "Epoch 127/1000\n",
      "1/1 [==============================] - 0s 24ms/step - loss: 0.0677 - mse: 0.0660 - val_loss: 0.0659 - val_mse: 0.0643\n",
      "Epoch 128/1000\n",
      "1/1 [==============================] - 0s 111ms/step - loss: 0.0676 - mse: 0.0660 - val_loss: 0.0657 - val_mse: 0.0641\n",
      "Epoch 129/1000\n",
      "1/1 [==============================] - 0s 25ms/step - loss: 0.0677 - mse: 0.0661 - val_loss: 0.0662 - val_mse: 0.0646\n",
      "Epoch 130/1000\n",
      "1/1 [==============================] - 0s 26ms/step - loss: 0.0679 - mse: 0.0663 - val_loss: 0.0658 - val_mse: 0.0643\n",
      "Epoch 131/1000\n",
      "1/1 [==============================] - 0s 23ms/step - loss: 0.0677 - mse: 0.0662 - val_loss: 0.0661 - val_mse: 0.0645\n",
      "Epoch 132/1000\n",
      "1/1 [==============================] - 0s 23ms/step - loss: 0.0675 - mse: 0.0660 - val_loss: 0.0662 - val_mse: 0.0647\n",
      "Epoch 133/1000\n",
      "1/1 [==============================] - 0s 32ms/step - loss: 0.0676 - mse: 0.0660 - val_loss: 0.0659 - val_mse: 0.0643\n",
      "Epoch 134/1000\n",
      "1/1 [==============================] - 0s 25ms/step - loss: 0.0678 - mse: 0.0663 - val_loss: 0.0664 - val_mse: 0.0648\n",
      "Epoch 135/1000\n",
      "1/1 [==============================] - 0s 21ms/step - loss: 0.0678 - mse: 0.0662 - val_loss: 0.0659 - val_mse: 0.0644\n",
      "Epoch 136/1000\n",
      "1/1 [==============================] - 0s 22ms/step - loss: 0.0675 - mse: 0.0660 - val_loss: 0.0659 - val_mse: 0.0645\n",
      "Epoch 137/1000\n",
      "1/1 [==============================] - 0s 23ms/step - loss: 0.0673 - mse: 0.0658 - val_loss: 0.0660 - val_mse: 0.0645\n",
      "Epoch 138/1000\n",
      "1/1 [==============================] - 0s 80ms/step - loss: 0.0675 - mse: 0.0660 - val_loss: 0.0655 - val_mse: 0.0640\n",
      "Epoch 139/1000\n",
      "1/1 [==============================] - 0s 23ms/step - loss: 0.0677 - mse: 0.0663 - val_loss: 0.0662 - val_mse: 0.0647\n",
      "Epoch 140/1000\n",
      "1/1 [==============================] - 0s 22ms/step - loss: 0.0676 - mse: 0.0662 - val_loss: 0.0659 - val_mse: 0.0645\n",
      "Epoch 141/1000\n",
      "1/1 [==============================] - 0s 22ms/step - loss: 0.0673 - mse: 0.0659 - val_loss: 0.0658 - val_mse: 0.0644\n",
      "Epoch 142/1000\n",
      "1/1 [==============================] - 0s 23ms/step - loss: 0.0673 - mse: 0.0659 - val_loss: 0.0663 - val_mse: 0.0649\n",
      "Epoch 143/1000\n",
      "1/1 [==============================] - 0s 77ms/step - loss: 0.0679 - mse: 0.0665 - val_loss: 0.0654 - val_mse: 0.0640\n",
      "Epoch 144/1000\n",
      "1/1 [==============================] - 0s 23ms/step - loss: 0.0682 - mse: 0.0669 - val_loss: 0.0659 - val_mse: 0.0645\n",
      "Epoch 145/1000\n",
      "1/1 [==============================] - 0s 22ms/step - loss: 0.0675 - mse: 0.0661 - val_loss: 0.0657 - val_mse: 0.0644\n",
      "Epoch 146/1000\n",
      "1/1 [==============================] - 0s 22ms/step - loss: 0.0672 - mse: 0.0658 - val_loss: 0.0655 - val_mse: 0.0642\n",
      "Epoch 147/1000\n",
      "1/1 [==============================] - 0s 22ms/step - loss: 0.0677 - mse: 0.0664 - val_loss: 0.0663 - val_mse: 0.0649\n",
      "Epoch 148/1000\n",
      "1/1 [==============================] - 0s 24ms/step - loss: 0.0673 - mse: 0.0660 - val_loss: 0.0658 - val_mse: 0.0645\n",
      "Epoch 149/1000\n",
      "1/1 [==============================] - 0s 83ms/step - loss: 0.0671 - mse: 0.0657 - val_loss: 0.0651 - val_mse: 0.0638\n",
      "Epoch 150/1000\n",
      "1/1 [==============================] - 0s 21ms/step - loss: 0.0673 - mse: 0.0660 - val_loss: 0.0652 - val_mse: 0.0640\n",
      "Epoch 151/1000\n",
      "1/1 [==============================] - 0s 22ms/step - loss: 0.0670 - mse: 0.0657 - val_loss: 0.0655 - val_mse: 0.0642\n",
      "Epoch 152/1000\n",
      "1/1 [==============================] - 0s 23ms/step - loss: 0.0672 - mse: 0.0659 - val_loss: 0.0652 - val_mse: 0.0640\n",
      "Epoch 153/1000\n",
      "1/1 [==============================] - 0s 22ms/step - loss: 0.0673 - mse: 0.0661 - val_loss: 0.0656 - val_mse: 0.0644\n",
      "Epoch 154/1000\n",
      "1/1 [==============================] - 0s 22ms/step - loss: 0.0669 - mse: 0.0657 - val_loss: 0.0661 - val_mse: 0.0648\n",
      "Epoch 155/1000\n",
      "1/1 [==============================] - 0s 22ms/step - loss: 0.0672 - mse: 0.0659 - val_loss: 0.0653 - val_mse: 0.0641\n",
      "Epoch 156/1000\n",
      "1/1 [==============================] - 0s 83ms/step - loss: 0.0670 - mse: 0.0658 - val_loss: 0.0651 - val_mse: 0.0639\n",
      "Epoch 157/1000\n",
      "1/1 [==============================] - 0s 23ms/step - loss: 0.0669 - mse: 0.0657 - val_loss: 0.0652 - val_mse: 0.0640\n",
      "Epoch 158/1000\n",
      "1/1 [==============================] - 0s 78ms/step - loss: 0.0669 - mse: 0.0657 - val_loss: 0.0649 - val_mse: 0.0638\n",
      "Epoch 159/1000\n",
      "1/1 [==============================] - 0s 23ms/step - loss: 0.0667 - mse: 0.0656 - val_loss: 0.0650 - val_mse: 0.0638\n",
      "Epoch 160/1000\n",
      "1/1 [==============================] - 0s 23ms/step - loss: 0.0667 - mse: 0.0656 - val_loss: 0.0653 - val_mse: 0.0641\n",
      "Epoch 161/1000\n",
      "1/1 [==============================] - 0s 23ms/step - loss: 0.0667 - mse: 0.0655 - val_loss: 0.0651 - val_mse: 0.0640\n",
      "Epoch 162/1000\n",
      "1/1 [==============================] - 0s 83ms/step - loss: 0.0666 - mse: 0.0655 - val_loss: 0.0648 - val_mse: 0.0637\n"
     ]
    }
   ],
   "source": [
    "# model training process\n",
    "history = model.fit(\n",
    "    x=SPEC_CAL,\n",
    "    y=Y_CAL,\n",
    "    batch_size=300,  # mini-batch size\n",
    "    epochs=1000,\n",
    "    verbose=1,\n",
    "    validation_data=(SPEC_TEST, Y_TEST),\n",
    "    callbacks=[earlystop, checkpoint])\n",
    "del history"
   ]
  },
  {
   "cell_type": "markdown",
   "metadata": {},
   "source": [
    "Was it worth the wait?"
   ]
  },
  {
   "cell_type": "code",
   "execution_count": 10,
   "metadata": {},
   "outputs": [
    {
     "name": "stdout",
     "output_type": "stream",
     "text": [
      "(10, 1778, 1)\n",
      "(10, 1778)\n"
     ]
    },
    {
     "data": {
      "image/png": "[encoded data removed]",
      "text/plain": [
       "<Figure size 432x288 with 1 Axes>"
      ]
     },
     "metadata": {
      "needs_background": "light"
     },
     "output_type": "display_data"
    }
   ],
   "source": [
    "layers_output = [model.layers[i].output for i in range(len(model.layers))]\n",
    "#print(layers_output[0].shape)\n",
    "\n",
    "from tensorflow.keras import models\n",
    "\n",
    "conv1D_model = models.Model(inputs=model.input, outputs=layers_output[4])\n",
    "ind=np.random.permutation(300)\n",
    "temp=SPEC_CAL[ind[0:10],:,:]\n",
    "\n",
    "print(temp.shape)\n",
    "conv1D_output = conv1D_model.predict(temp)\n",
    "print(conv1D_output.shape)\n",
    "#first_layer_activation = activations[0]\n",
    "#first_layer_activation.shape\n",
    "\n",
    "from pylab import *\n",
    "#for r in range(conv1D_output.shape[2]):\n",
    "for i in range(temp.shape[0]):\n",
    "        #subplot(conv1D_output.shape[2],1,r+1)\n",
    "    plt.plot(WL_AXIS,conv1D_output[i, :])\n",
    "    "
   ]
  },
  {
   "cell_type": "markdown",
   "metadata": {},
   "source": [
    "Over 99%! And that's with just 10 epochs! And from the looks of it, 4 or 5 would have been enough. It came at a significant cost in terms of computing power, but when you start distributing things over multiple computers each with multiple GPU's, that cost starts to feel less bad. If you're building something where life and death are on the line, like a self-driving car, every fraction of a percent matters."
   ]
  },
  {
   "cell_type": "code",
   "execution_count": 25,
   "metadata": {},
   "outputs": [
    {
     "name": "stdout",
     "output_type": "stream",
     "text": [
      "(72, 1)\n",
      "(300, 1)\n",
      "\n",
      "\n",
      "train\n",
      "0.1069003149351625\n",
      "0.2449498910641679\n",
      "\n",
      "\n",
      "test\n",
      "0.06485044477530821\n",
      "0.2426941509441611\n"
     ]
    }
   ],
   "source": [
    "model.load_weights(weight_path)\n",
    "ypred_test = model.predict(SPEC_TEST)\n",
    "ypred_train = model.predict(SPEC_CAL)\n",
    "print(ypred_test.shape)\n",
    "print(ypred_train.shape)\n",
    "\n",
    "print(\"\\n\")\n",
    "print(\"train\")\n",
    "print(r2_score(Y_CAL.ravel(), ypred_train.ravel()))\n",
    "print(np.sqrt(mean_squared_error(Y_CAL.ravel(), ypred_train.ravel())))\n",
    "#print(mape(Y_CAL.ravel(), ypred_train.ravel()))\n",
    "#print(mean_absolute_error(Y_CAL.ravel(), ypred_train.ravel()))\n",
    "#print(\"\\n\")\n",
    "#print(\"validation\")\n",
    "#print(r2_score(yval.ravel(), ypred_val.ravel()))\n",
    "#print(np.sqrt(mean_squared_error(yval.ravel(), ypred_val.ravel())))\n",
    "#print(mape(yval.ravel(), ypred_val.ravel()))\n",
    "#print(mean_absolute_error(yval.ravel(), ypred_val.ravel()))\n",
    "print(\"\\n\")\n",
    "print(\"test\")\n",
    "print(r2_score(Y_TEST.ravel(), ypred_test.ravel()))\n",
    "print(np.sqrt(mean_squared_error(Y_TEST.ravel(), ypred_test.ravel())))\n",
    "#print(mape(Y_TEST.ravel(), ypred_test.ravel()))\n",
    "#print(mean_absolute_error(Y_TEST.ravel(), ypred_test.ravel()))\n"
   ]
  },
  {
   "cell_type": "code",
   "execution_count": 26,
   "metadata": {},
   "outputs": [
    {
     "data": {
      "image/png": "[encoded data removed]",
      "text/plain": [
       "<Figure size 432x288 with 1 Axes>"
      ]
     },
     "metadata": {
      "needs_background": "light"
     },
     "output_type": "display_data"
    }
   ],
   "source": [
    "# plot  predicted values vs actual values\n",
    "plt.scatter(Y_TEST, ypred_test, c='r', alpha=0.6, label='test')\n",
    "plt.scatter(Y_CAL, ypred_train, c='g', alpha=0.5, label='train')\n",
    "#plt.scatter(yval, ypred_val, c='b', alpha=0.5, label='val')\n",
    "plt.plot(np.linspace(0, 0.5, 10), np.linspace(0, 0.5, 10))\n",
    "plt.xlabel(\"Actual\")\n",
    "plt.ylabel(\"Pred\")\n",
    "plt.legend()\n",
    "plt.show()"
   ]
  },
  {
   "cell_type": "code",
   "execution_count": 88,
   "metadata": {},
   "outputs": [
    {
     "name": "stdout",
     "output_type": "stream",
     "text": [
      "Observed value: [0.74224]\n",
      "Predicted value: [[0.65593386]]\n"
     ]
    }
   ],
   "source": [
    "def sample_test(x):\n",
    "    test_sample = SPEC_TEST[x,:].reshape(1,SPEC_TEST.shape[1],1)\n",
    "    pred_label=model.predict(test_sample)\n",
    "    label = Y_TEST[x]\n",
    "    print('Observed value:', label)\n",
    "    print('Predicted value:',pred_label)\n",
    "#\n",
    "\n",
    "sample_test(19)"
   ]
  },
  {
   "cell_type": "code",
   "execution_count": null,
   "metadata": {},
   "outputs": [],
   "source": []
  }
 ],
 "metadata": {
  "kernelspec": {
   "display_name": "Python 3",
   "language": "python",
   "name": "python3"
  },
  "language_info": {
   "codemirror_mode": {
    "name": "ipython",
    "version": 3
   },
   "file_extension": ".py",
   "mimetype": "text/x-python",
   "name": "python",
   "nbconvert_exporter": "python",
   "pygments_lexer": "ipython3",
   "version": "3.8.3"
  },
  "widgets": {
   "state": {},
   "version": "1.1.2"
  }
 },
 "nbformat": 4,
 "nbformat_minor": 2
}
